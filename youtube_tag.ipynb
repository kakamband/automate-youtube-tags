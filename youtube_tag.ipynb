{
 "cells": [
  {
   "cell_type": "code",
   "execution_count": 1,
   "metadata": {},
   "outputs": [],
   "source": [
    "import pandas as pd\n",
    "import urllib as ub\n",
    "import os #join paths/folders to store csv."
   ]
  },
  {
   "cell_type": "code",
   "execution_count": 2,
   "metadata": {},
   "outputs": [],
   "source": [
    "url='' #download root\n",
    "\n",
    "def load_youtube_csv_url(url):\n",
    "    ub.request.retrieve(url)\n",
    "    #use os.path.join to store the csv file to folder."
   ]
  },
  {
   "cell_type": "code",
   "execution_count": 4,
   "metadata": {},
   "outputs": [],
   "source": [
    "def load_youtube_csv(): #load csv we downloaded.\n",
    "    csv_path=(\"youtube.csv\")\n",
    "    return pd.read_csv(csv_path)\n",
    "\n",
    "youtube=load_youtube_csv()"
   ]
  },
  {
   "cell_type": "code",
   "execution_count": 5,
   "metadata": {},
   "outputs": [
    {
     "data": {
      "text/html": [
       "<div>\n",
       "<style scoped>\n",
       "    .dataframe tbody tr th:only-of-type {\n",
       "        vertical-align: middle;\n",
       "    }\n",
       "\n",
       "    .dataframe tbody tr th {\n",
       "        vertical-align: top;\n",
       "    }\n",
       "\n",
       "    .dataframe thead th {\n",
       "        text-align: right;\n",
       "    }\n",
       "</style>\n",
       "<table border=\"1\" class=\"dataframe\">\n",
       "  <thead>\n",
       "    <tr style=\"text-align: right;\">\n",
       "      <th></th>\n",
       "      <th>Keyword</th>\n",
       "      <th>Rank</th>\n",
       "      <th>Top 10</th>\n",
       "      <th>Source</th>\n",
       "      <th>Country</th>\n",
       "    </tr>\n",
       "  </thead>\n",
       "  <tbody>\n",
       "    <tr>\n",
       "      <th>0</th>\n",
       "      <td>python programming</td>\n",
       "      <td>10.0</td>\n",
       "      <td>True</td>\n",
       "      <td>YouTube</td>\n",
       "      <td>USA</td>\n",
       "    </tr>\n",
       "    <tr>\n",
       "      <th>1</th>\n",
       "      <td>python 7211p programming</td>\n",
       "      <td>9.5</td>\n",
       "      <td>False</td>\n",
       "      <td>YouTube</td>\n",
       "      <td>USA</td>\n",
       "    </tr>\n",
       "    <tr>\n",
       "      <th>2</th>\n",
       "      <td>python programming 101</td>\n",
       "      <td>9.5</td>\n",
       "      <td>False</td>\n",
       "      <td>YouTube</td>\n",
       "      <td>USA</td>\n",
       "    </tr>\n",
       "    <tr>\n",
       "      <th>3</th>\n",
       "      <td>python programming 2020</td>\n",
       "      <td>9.5</td>\n",
       "      <td>False</td>\n",
       "      <td>YouTube</td>\n",
       "      <td>USA</td>\n",
       "    </tr>\n",
       "    <tr>\n",
       "      <th>4</th>\n",
       "      <td>python programming 3.8</td>\n",
       "      <td>9.5</td>\n",
       "      <td>False</td>\n",
       "      <td>YouTube</td>\n",
       "      <td>USA</td>\n",
       "    </tr>\n",
       "  </tbody>\n",
       "</table>\n",
       "</div>"
      ],
      "text/plain": [
       "                    Keyword  Rank  Top 10   Source Country\n",
       "0        python programming  10.0    True  YouTube     USA\n",
       "1  python 7211p programming   9.5   False  YouTube     USA\n",
       "2    python programming 101   9.5   False  YouTube     USA\n",
       "3   python programming 2020   9.5   False  YouTube     USA\n",
       "4    python programming 3.8   9.5   False  YouTube     USA"
      ]
     },
     "execution_count": 5,
     "metadata": {},
     "output_type": "execute_result"
    }
   ],
   "source": [
    "youtube.head()"
   ]
  },
  {
   "cell_type": "code",
   "execution_count": 6,
   "metadata": {},
   "outputs": [],
   "source": [
    "def get_tag(text_file): #function to save the tag to a file.\n",
    "    read=(youtube[\"Keyword\"])\n",
    "    file_open=open(text_file, 'w')\n",
    "    n= 10\n",
    "    while n>=0:\n",
    "        n=n-1\n",
    "        tag=str(read[n]+',')\n",
    "        file_open.write(tag)\n",
    "        if n==0:\n",
    "            break\n",
    "    "
   ]
  },
  {
   "cell_type": "code",
   "execution_count": 7,
   "metadata": {},
   "outputs": [],
   "source": [
    "get_tag(\"vantage_tags.txt\") #write the tags to a file."
   ]
  },
  {
   "cell_type": "code",
   "execution_count": 8,
   "metadata": {},
   "outputs": [],
   "source": [
    "import pyperclip as pc #copy to clipboard.\n",
    "\n",
    "file_open=open('vantage_tags.txt', 'r') #open the file you previously written the tags.\n",
    "\n",
    "copy_tags = file_open.read()\n",
    "\n",
    "pc.copy(copy_tags)"
   ]
  },
  {
   "cell_type": "code",
   "execution_count": null,
   "metadata": {},
   "outputs": [],
   "source": []
  }
 ],
 "metadata": {
  "kernelspec": {
   "display_name": "Python 3",
   "language": "python",
   "name": "python3"
  },
  "language_info": {
   "codemirror_mode": {
    "name": "ipython",
    "version": 3
   },
   "file_extension": ".py",
   "mimetype": "text/x-python",
   "name": "python",
   "nbconvert_exporter": "python",
   "pygments_lexer": "ipython3",
   "version": "3.7.6"
  }
 },
 "nbformat": 4,
 "nbformat_minor": 4
}
